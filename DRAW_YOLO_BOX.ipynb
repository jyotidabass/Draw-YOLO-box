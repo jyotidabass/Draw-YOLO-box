{
  "nbformat": 4,
  "nbformat_minor": 0,
  "metadata": {
    "colab": {
      "name": "DRAW YOLO BOX.ipynb",
      "provenance": [],
      "authorship_tag": "ABX9TyMsGA11Nb1zB2MlklXoUuO9",
      "include_colab_link": true
    },
    "kernelspec": {
      "name": "python3",
      "display_name": "Python 3"
    },
    "language_info": {
      "name": "python"
    }
  },
  "cells": [
    {
      "cell_type": "markdown",
      "metadata": {
        "id": "view-in-github",
        "colab_type": "text"
      },
      "source": [
        "<a href=\"https://colab.research.google.com/github/jyotidabass/Draw-YOLO-box/blob/main/DRAW_YOLO_BOX.ipynb\" target=\"_parent\"><img src=\"https://colab.research.google.com/assets/colab-badge.svg\" alt=\"Open In Colab\"/></a>"
      ]
    },
    {
      "cell_type": "code",
      "execution_count": 1,
      "metadata": {
        "colab": {
          "base_uri": "https://localhost:8080/"
        },
        "id": "N5nlsk3DrJC6",
        "outputId": "534001e5-8f03-4482-ab1f-17b636547fca"
      },
      "outputs": [
        {
          "output_type": "stream",
          "name": "stdout",
          "text": [
            "Cloning into 'draw-YOLO-box'...\n",
            "remote: Enumerating objects: 1003, done.\u001b[K\n",
            "remote: Counting objects: 100% (72/72), done.\u001b[K\n",
            "remote: Compressing objects: 100% (52/52), done.\u001b[K\n",
            "remote: Total 1003 (delta 29), reused 44 (delta 10), pack-reused 931\u001b[K\n",
            "Receiving objects: 100% (1003/1003), 99.97 MiB | 14.03 MiB/s, done.\n",
            "Resolving deltas: 100% (49/49), done.\n"
          ]
        }
      ],
      "source": [
        "!git clone https://github.com/waittim/draw-YOLO-box.git"
      ]
    },
    {
      "cell_type": "code",
      "source": [
        "#coding:utf-8\n",
        "import cv2\n",
        "import os\n",
        "import random\n",
        "\n",
        "\n",
        "label_folder = '/content/draw-YOLO-box/labels'  \n",
        "\n",
        "raw_images_folder = '/content/draw-YOLO-box/raw_images'  \n",
        "\n",
        "save_images_folder = '/content/draw-YOLO-box/save_image' \n",
        "\n",
        "name_list_path = '/content/draw-YOLO-box/name_list.txt'  \n",
        "\n",
        "classes_path = '/content/draw-YOLO-box/classes.txt'\n",
        "\n",
        "\n",
        "def plot_one_box(x, image, color=None, label=None, line_thickness=None):\n",
        "    # Plots one bounding box on image img\n",
        "    tl = line_thickness or round(0.002 * (image.shape[0] + image.shape[1]) / 2) + 1  # line/font thickness\n",
        "    color = color or [random.randint(0, 255) for _ in range(3)]\n",
        "    c1, c2 = (int(x[0]), int(x[1])), (int(x[2]), int(x[3]))\n",
        "    cv2.rectangle(image, c1, c2, color, thickness=tl, lineType=cv2.LINE_AA)\n",
        "    if label:\n",
        "        tf = max(tl - 1, 1)  # font thickness\n",
        "        t_size = cv2.getTextSize(label, 0, fontScale=tl / 3, thickness=tf)[0]\n",
        "        c2 = c1[0] + t_size[0], c1[1] - t_size[1] - 3\n",
        "        cv2.rectangle(image, c1, c2, color, -1, cv2.LINE_AA)  # filled\n",
        "        cv2.putText(image, label, (c1[0], c1[1] - 2), 0, tl / 3, [225, 255, 255], thickness=tf, lineType=cv2.LINE_AA)\n",
        "\n",
        "\n",
        "def draw_box_on_image(image_name, classes, colors, label_folder, raw_images_folder, save_images_folder ):\n",
        "    txt_path  = os.path.join(label_folder,'%s.txt'%(image_name)) \n",
        "    print(image_name)\n",
        "    if image_name == '.DS_Store':\n",
        "        return 0\n",
        "    image_path = os.path.join( raw_images_folder,'%s.jpg'%(image_name))  \n",
        "    \n",
        "    save_file_path = os.path.join(save_images_folder,'%s.jpg'%(image_name)) \n",
        "    \n",
        "    # flag_people_or_car_data = 0  \n",
        "    source_file = open(txt_path)\n",
        "    image = cv2.imread(image_path)\n",
        "    try:\n",
        "        height, width, channels = image.shape\n",
        "    except:\n",
        "        print('no shape info.')\n",
        "        return 0\n",
        "\n",
        "    box_number = 0\n",
        "    for line in source_file: \n",
        "        staff = line.split() \n",
        "        class_idx = int(staff[0])\n",
        "\n",
        "        x_center, y_center, w, h = float(staff[1])*width, float(staff[2])*height, float(staff[3])*width, float(staff[4])*height\n",
        "        x1 = round(x_center-w/2)\n",
        "        y1 = round(y_center-h/2)\n",
        "        x2 = round(x_center+w/2)\n",
        "        y2 = round(y_center+h/2)     \n",
        "        \n",
        "        # if class_idx == 0: \n",
        "        #     draw_people_tangle = cv2.rectangle(image, (x1,y1),(x2,y2),(0,0,255),2)   \n",
        "        #     cv2.imwrite(save_file_path,draw_people_tangle)  \n",
        "        # elif class_idx == 1:\n",
        "        #     draw_car_tangle = cv2.rectangle(image,(x1,y1),(x2,y2),(0,255,0),2)     \n",
        "        #     cv2.imwrite(save_file_path,draw_car_tangle) \n",
        "\n",
        "        plot_one_box([x1,y1,x2,y2], image, color=colors[class_idx], label=classes[class_idx], line_thickness=None)\n",
        "\n",
        "        cv2.imwrite(save_file_path,image) \n",
        "\n",
        "        box_number += 1\n",
        "    return box_number\n",
        "    \n",
        "\n",
        "def make_name_list(raw_images_folder, name_list_path):\n",
        "\n",
        "    image_file_list = os.listdir(raw_images_folder) \n",
        "\n",
        "    text_image_name_list_file=open(name_list_path,'w')  \n",
        "\n",
        "    for  image_file_name in image_file_list:\n",
        "        image_name,file_extend = os.path.splitext(image_file_name)  \n",
        "        text_image_name_list_file.write(image_name+'\\n') \n",
        "    \n",
        "    text_image_name_list_file.close()\n",
        "\n",
        "\n",
        "if __name__ == '__main__':           \n",
        "\n",
        "    make_name_list(raw_images_folder, name_list_path) \n",
        "\n",
        "    classes = image_names = open(classes_path).read().strip().split()\n",
        "    random.seed(42)\n",
        "    colors = [[random.randint(0, 255) for _ in range(3)] for _ in range(len(classes))]\n",
        "\n",
        "    image_names = open(name_list_path).read().strip().split() \n",
        "\n",
        "    box_total = 0\n",
        "    image_total = 0\n",
        "    for image_name in image_names: \n",
        "        box_num = draw_box_on_image(image_name, classes, colors, label_folder, raw_images_folder, save_images_folder)#对图片画框\n",
        "        box_total += box_num\n",
        "        image_total += 1\n",
        "        print('Box number:', box_total, 'Image number:',image_total)"
      ],
      "metadata": {
        "colab": {
          "base_uri": "https://localhost:8080/"
        },
        "id": "VDm_LI1grMHt",
        "outputId": "aaff1580-f9c1-4794-fcb4-18dd213b2f5b"
      },
      "execution_count": 2,
      "outputs": [
        {
          "output_type": "stream",
          "name": "stdout",
          "text": [
            "wrong_00004\n",
            "Box number: 1 Image number: 1\n",
            "wrong_00006\n",
            "Box number: 10 Image number: 2\n",
            "wrong_00001\n",
            "Box number: 11 Image number: 3\n",
            "wrong_00009\n",
            "Box number: 12 Image number: 4\n",
            "wrong_00010\n",
            "Box number: 14 Image number: 5\n",
            ".DS_Store\n",
            "Box number: 14 Image number: 6\n",
            "wrong_00005\n",
            "Box number: 15 Image number: 7\n",
            "wrong_00008\n",
            "Box number: 16 Image number: 8\n",
            "wrong_00002\n",
            "Box number: 17 Image number: 9\n",
            "wrong_00007\n",
            "Box number: 18 Image number: 10\n",
            "wrong_00003\n",
            "Box number: 19 Image number: 11\n"
          ]
        }
      ]
    },
    {
      "cell_type": "code",
      "source": [
        "#coding:utf-8\n",
        "import cv2\n",
        "import os\n",
        "!pip install piexif\n",
        "import piexif\n",
        "\n",
        "#全局变量进行路径配置\n",
        "raw_images_folder = '/content/draw-YOLO-box/raw_images'  #检查图片存放文件夹raw_images路径\n",
        "\n",
        "save_images_folder = '/content/draw-YOLO-box/save_image'  #保存图片文件夹save_image路径\n",
        "\n",
        "name_list_path = '/content/draw-YOLO-box/name_list.txt'  #里面有检测图片名称得txt文件路径\n",
        "\n",
        "wrong_folder = '/content/draw-YOLO-box/wrong'  #错判图片文件夹wrong路径\n",
        "\n",
        "#函数：将wrong文件夹内的对应原文件保存到save_image\n",
        "def get_image(image_name,raw_images_folder,save_images_folder ):\n",
        "    print(image_name)\n",
        "    if image_name == '.DS_Store':\n",
        "        return 0\n",
        "    image_path = os.path.join( raw_images_folder,'%s.jpg'%(image_name))  #本次原始图片jpg路径\n",
        "    \n",
        "    save_file_path = os.path.join(save_images_folder,'%s.jpg'%(image_name)) #本次保存图片jpg路径\n",
        "    image = cv2.imread(image_path)\n",
        "    cv2.imwrite(save_file_path,image)\n",
        "    piexif.remove(save_file_path)\n",
        "\n",
        "    \n",
        "\n",
        "#函数：通过保存有错判图片得文件夹，生成写有所有错判图片名称（不带后缀）得txt\n",
        "def make_name_list(wrong_folder, name_list_path):\n",
        "\n",
        "    image_file_list = os.listdir(wrong_folder) #得到该路径下所有文件名称带后缀\n",
        "\n",
        "    text_image_name_list_file=open(name_list_path,'w')  #以写入得方式打开txt ，方便更新 不要用追加写\n",
        "\n",
        "    for  image_file_name in image_file_list:#例遍写入\n",
        "        image_name,file_extend = os.path.splitext(image_file_name)  # 去掉扩展命\n",
        "        text_image_name_list_file.write(image_name+'\\n') #写入\n",
        "    \n",
        "    text_image_name_list_file.close()\n",
        "\n",
        "\n",
        "if __name__ == '__main__':           # 只有在文件作为脚本文件直接执行时才执行下面代码  \n",
        "\n",
        "    make_name_list(wrong_folder, name_list_path) #执行写入txt函数\n",
        "\n",
        "    image_names = open(name_list_path).read().strip().split() #得到图片名字不带后缀\n",
        "\n",
        "    image_total = 0\n",
        "    for image_name in image_names: #例遍图片名称\n",
        "        box_num = get_image(image_name,raw_images_folder,save_images_folder)\n",
        "        image_total += 1\n",
        "        print('Image number:',image_total)"
      ],
      "metadata": {
        "colab": {
          "base_uri": "https://localhost:8080/"
        },
        "id": "D1PIEr6GsbU0",
        "outputId": "a732876f-0030-4219-8b91-531aca7ae295"
      },
      "execution_count": 4,
      "outputs": [
        {
          "output_type": "stream",
          "name": "stdout",
          "text": [
            "Looking in indexes: https://pypi.org/simple, https://us-python.pkg.dev/colab-wheels/public/simple/\n",
            "Collecting piexif\n",
            "  Downloading piexif-1.1.3-py2.py3-none-any.whl (20 kB)\n",
            "Installing collected packages: piexif\n",
            "Successfully installed piexif-1.1.3\n",
            ".DS_Store\n",
            "Image number: 1\n"
          ]
        }
      ]
    }
  ]
}